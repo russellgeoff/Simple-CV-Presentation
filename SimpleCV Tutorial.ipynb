{
 "metadata": {
  "name": "",
  "signature": "sha256:40557fdb1de83b682fad3b710c31abe48068c843256489fbd5e906a0fd769584"
 },
 "nbformat": 3,
 "nbformat_minor": 0,
 "worksheets": [
  {
   "cells": [
    {
     "cell_type": "heading",
     "level": 2,
     "metadata": {},
     "source": [
      "Web Cam Operation"
     ]
    },
    {
     "cell_type": "markdown",
     "metadata": {},
     "source": [
      "Live Camera View"
     ]
    },
    {
     "cell_type": "code",
     "collapsed": false,
     "input": [
      "%reset -f\n",
      "from SimpleCV import *\n",
      "cam = Camera(2)\n",
      "cam.live()"
     ],
     "language": "python",
     "metadata": {},
     "outputs": []
    },
    {
     "cell_type": "markdown",
     "metadata": {},
     "source": [
      "Basic Camera Operation"
     ]
    },
    {
     "cell_type": "code",
     "collapsed": true,
     "input": [
      "%reset -f\n",
      "from SimpleCV import *\n",
      "\n",
      "cam = Camera(1)\n",
      "while True:\n",
      "    inImg = cam.getImage()\n",
      "    inImg.show()"
     ],
     "language": "python",
     "metadata": {},
     "outputs": []
    },
    {
     "cell_type": "markdown",
     "metadata": {},
     "source": [
      "Limited Time Camera Operation"
     ]
    },
    {
     "cell_type": "code",
     "collapsed": true,
     "input": [
      "%reset -f\n",
      "from SimpleCV import *\n",
      "\n",
      "cam = Camera(1)\n",
      "x=0\n",
      "while x<100:\n",
      "    x +=1\n",
      "    inImg = cam.getImage()\n",
      "    outImg = inImg.rotate(90)\n",
      "    outImg.show()"
     ],
     "language": "python",
     "metadata": {},
     "outputs": []
    },
    {
     "cell_type": "markdown",
     "metadata": {},
     "source": [
      "Diplay Camera Operation"
     ]
    },
    {
     "cell_type": "code",
     "collapsed": false,
     "input": [
      "%reset -f\n",
      "from SimpleCV import *\n",
      "\n",
      "cam = Camera(1)\n",
      "disp = Display()\n",
      "\n",
      "while not disp.isDone():\n",
      "    inImg = cam.getImage()\n",
      "    if disp.mouseLeft:\n",
      "        break\n",
      "    inImg.save(disp)"
     ],
     "language": "python",
     "metadata": {},
     "outputs": []
    },
    {
     "cell_type": "markdown",
     "metadata": {},
     "source": [
      "Spinning Camera"
     ]
    },
    {
     "cell_type": "code",
     "collapsed": false,
     "input": [
      "%reset -f\n",
      "from SimpleCV import *\n",
      "\n",
      "cam = Camera(2)\n",
      "disp = Display()\n",
      "\n",
      "count = 0 \n",
      "while disp.isNotDone():\n",
      "    count +=10\n",
      "    inImg = cam.getImage()\n",
      "    outImg = inImg.rotate(count)\n",
      "    if disp.mouseLeft:\n",
      "        break\n",
      "    outImg.save(disp)"
     ],
     "language": "python",
     "metadata": {},
     "outputs": []
    },
    {
     "cell_type": "heading",
     "level": 2,
     "metadata": {},
     "source": [
      "Drawing"
     ]
    },
    {
     "cell_type": "markdown",
     "metadata": {},
     "source": [
      "Drawing on Display"
     ]
    },
    {
     "cell_type": "code",
     "collapsed": false,
     "input": [
      "%reset -f\n",
      "from SimpleCV import *\n",
      "img = Image((640, 480))\n",
      "disp = Display()\n",
      "\n",
      "while not disp.isDone():\n",
      "    if disp.mouseLeft:\n",
      "        img.dl().circle((disp.mouseX, disp.mouseY), 4, Color.WHITE, filled = True)\n",
      "        img.save(disp)"
     ],
     "language": "python",
     "metadata": {},
     "outputs": []
    },
    {
     "cell_type": "markdown",
     "metadata": {},
     "source": [
      "Laser Pointer"
     ]
    },
    {
     "cell_type": "code",
     "collapsed": false,
     "input": [
      "%reset -f\n",
      "from SimpleCV import *\n",
      "cam = Camera(2)\n",
      "disp = Display()\n",
      "\n",
      "while disp.isNotDone():\n",
      "    img = cam.getImage()\n",
      "    if disp.mouseLeft:\n",
      "        img.dl().circle((disp.mouseX, disp.mouseY), 4, Color.WHITE, filled=True)\n",
      "    img.save(disp)"
     ],
     "language": "python",
     "metadata": {},
     "outputs": []
    },
    {
     "cell_type": "markdown",
     "metadata": {},
     "source": [
      "Drawing on Live Feed"
     ]
    },
    {
     "cell_type": "code",
     "collapsed": false,
     "input": [
      "%reset -f\n",
      "from SimpleCV import *\n",
      "cam = Camera(2)\n",
      "disp = Display()\n",
      "size = cam.getImage().size()\n",
      "dl = DrawingLayer(size)\n",
      "\n",
      "while disp.isNotDone():\n",
      "    img = cam.getImage()\n",
      "    if disp.mouseLeft:\n",
      "        dl.circle((disp.mouseX, disp.mouseY), 4, Color.BLUE, filled=True)\n",
      "    img.addDrawingLayer(dl)\n",
      "    img.save(disp)"
     ],
     "language": "python",
     "metadata": {},
     "outputs": []
    },
    {
     "cell_type": "heading",
     "level": 2,
     "metadata": {},
     "source": [
      "IP Camera Stream"
     ]
    },
    {
     "cell_type": "code",
     "collapsed": false,
     "input": [
      "%reset -f\n",
      "from SimpleCV import *\n",
      "\n",
      "cam = JpegStreamCamera(\"http://10.22.242.16:8020/videoView\")\n",
      "disp = Display()\n",
      "\n",
      "while disp.isNotDone():\n",
      "    img = cam.getImage()\n",
      "    img.save(disp)"
     ],
     "language": "python",
     "metadata": {},
     "outputs": []
    },
    {
     "cell_type": "heading",
     "level": 2,
     "metadata": {},
     "source": [
      "Face Detection"
     ]
    },
    {
     "cell_type": "markdown",
     "metadata": {},
     "source": [
      "Face Detection from WebCam"
     ]
    },
    {
     "cell_type": "code",
     "collapsed": true,
     "input": [
      "%reset -f\n",
      "from SimpleCV import *\n",
      "\n",
      "cam = Camera(2)\n",
      "disp = Display()\n",
      "segment = HaarCascade(\"face.xml\")\n",
      "while disp.isNotDone():\n",
      "    inImg = cam.getImage()\n",
      "    autoface = inImg.findHaarFeatures(segment)\n",
      "    if ( autoface is not None):\n",
      "        autoface = autoface.sortArea()\n",
      "        bigFace = autoface[-1]\n",
      "        bigFace.draw(Color.RED, width = 5)\n",
      "    inImg.save(disp)"
     ],
     "language": "python",
     "metadata": {},
     "outputs": []
    },
    {
     "cell_type": "markdown",
     "metadata": {},
     "source": [
      "Face Detection from IP Cam"
     ]
    },
    {
     "cell_type": "code",
     "collapsed": false,
     "input": [
      "%reset -f\n",
      "from SimpleCV import *\n",
      "\n",
      "cam = JpegStreamCamera(\"http://10.22.240.183:8020/videoView\")\n",
      "disp = Display()\n",
      "segment = HaarCascade(\"face.xml\")\n",
      "while disp.isNotDone():\n",
      "    inImg = cam.getImage()\n",
      "    autoface = inImg.findHaarFeatures(segment)\n",
      "    if ( autoface is not None):\n",
      "        autoface = autoface.sortArea()\n",
      "        bigFace = autoface[-1]\n",
      "        bigFace.draw(Color.RED, width = 5)\n",
      "    inImg.save(disp)"
     ],
     "language": "python",
     "metadata": {},
     "outputs": []
    },
    {
     "cell_type": "heading",
     "level": 2,
     "metadata": {},
     "source": [
      "Optical Character Reconition"
     ]
    },
    {
     "cell_type": "code",
     "collapsed": false,
     "input": [
      "%reset -f\n",
      "from SimpleCV import *\n",
      "img = Image(\"D:\\\\Desktop\\\\test.gif\")\n",
      "text = img.readText()\n",
      "print(text)"
     ],
     "language": "python",
     "metadata": {},
     "outputs": []
    },
    {
     "cell_type": "heading",
     "level": 2,
     "metadata": {},
     "source": [
      "Water Level"
     ]
    },
    {
     "cell_type": "code",
     "collapsed": false,
     "input": [
      "%reset -f\n",
      "from SimpleCV import *\n",
      "import time\n",
      "\n",
      "disp = Display(title = \"Liquid Level\")\n",
      "\n",
      "img = Image(\"D:\\Documents\\Programs\\FluidLevel\\FluidLevel\\Media\\cup2.jpg\")\n",
      "blobs = img.findBlobs()\n",
      "blobs[-1].draw(Color.RED, width = 4) #Draws the cup\n",
      "\n",
      "#img.save(\"D:\\Desktop\\Cup Images\\Cup Identified.png\")\n",
      "\n",
      "cupImg = blobs[-1].blobImage() #Gets image of just the cup\n",
      "#cupImg.save(\"D:\\Desktop\\Just Cup.png\")\n",
      "\n",
      "\n",
      "edgeImg = img.edges(t1= 55, t2=5)\n",
      "#edgeImg.save(\"D:\\Desktop\\Cup Images\\Edges.png\")\n",
      "\n",
      "lines = edgeImg.findLines()\n",
      "\n",
      "lines.draw(Color.GREEN, width = 4)\n",
      "#edgeImg.save(\"D:\\Desktop\\Cup Images\\Lines.png\")\n",
      "edgeImg.clearLayers()\n",
      "\n",
      "filtLines = lines.filter(abs(lines.angle()) < np.pi) #Checks for horizontal lines\n",
      "filtLines = filtLines.filter(filtLines.y() > 10) #Removes edge effects\n",
      "filtLines.draw(Color.BLUE, width = 8) #Draws the lines on the edgeImg\n",
      "img.addDrawingLayer(edgeImg.dl()) #Take the drawn lines from the edgeImg to img\n",
      "\n",
      "img.save(disp)\n",
      "#img.save(\"D:\\Desktop\\Cup Images\\Final Cup.png\")\n",
      "time.sleep(5)\n",
      "disp.quit()"
     ],
     "language": "python",
     "metadata": {},
     "outputs": []
    },
    {
     "cell_type": "heading",
     "level": 2,
     "metadata": {},
     "source": [
      "Blob Tracker"
     ]
    },
    {
     "cell_type": "code",
     "collapsed": false,
     "input": [
      "%reset -f\n",
      "from SimpleCV import *\n",
      "cam = Camera(2)\n",
      "disp = Display(title = \"Blob Tracker\")\n",
      "\n",
      "size = cam.getImage().size()\n",
      "pixels = size[0]*size[1]\n",
      "xOffset = 150\n",
      "yOffset = 30\n",
      "\n",
      "while disp.isNotDone():\n",
      "    if disp.leftButtonUp:\n",
      "        break\n",
      "    \n",
      "    inImg = cam.getImage()\n",
      "    workImg = inImg.copy()\n",
      "   \n",
      "    greenDist = workImg.hueDistance(Color.GREEN).binarize(60).dilate(2)\n",
      "   \n",
      "    blobs = greenDist.findBlobs(minsize = .1*pixels)\n",
      "    \n",
      "    if blobs is not None:\n",
      "        blobs[-1].draw(color = Color.BLUE, width = 3)\n",
      "        blobs[-1].drawMinRect(color = Color.RED, width = 3)\n",
      "        area = blobs[-1].area()\n",
      "        centroid = blobs[-1].centroid()\n",
      "        inImg.drawText(\"Area: %i\" % (area), \\\n",
      "                        centroid[0] - xOffset, centroid[1],\\\n",
      "                        color = Color.BLACK,\\\n",
      "                        fontsize = 40)\n",
      "        inImg.drawText(\"Centroid: X:%i, Y%i\" % (centroid[0], centroid[1]), \\\n",
      "                        centroid[0] - xOffset, centroid[1] + yOffset,\\\n",
      "                        color = Color.BLACK,\\\n",
      "                        fontsize = 40)\n",
      "        inImg.addDrawingLayer(greenDist.dl())\n",
      "    \n",
      "    outImg = inImg\n",
      "    outImg.save(disp)"
     ],
     "language": "python",
     "metadata": {},
     "outputs": []
    }
   ],
   "metadata": {}
  }
 ]
}