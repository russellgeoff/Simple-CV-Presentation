{
 "metadata": {
  "name": "SimpleCV Tutorial"
 },
 "nbformat": 3,
 "nbformat_minor": 0,
 "worksheets": [
  {
   "cells": [
    {
     "cell_type": "heading",
     "level": 2,
     "metadata": {},
     "source": "Web Cam Operation"
    },
    {
     "cell_type": "markdown",
     "metadata": {},
     "source": "Live Camera View"
    },
    {
     "cell_type": "code",
     "collapsed": false,
     "input": "%reset -f\nfrom SimpleCV import *\ncam = Camera(2)\ncam.live()",
     "language": "python",
     "metadata": {},
     "outputs": []
    },
    {
     "cell_type": "markdown",
     "metadata": {},
     "source": "Basic Camera Operation"
    },
    {
     "cell_type": "code",
     "collapsed": true,
     "input": "%reset -f\nfrom SimpleCV import *\n\ncam = Camera(1)\nwhile True:\n    inImg = cam.getImage()\n    inImg.show()",
     "language": "python",
     "metadata": {},
     "outputs": []
    },
    {
     "cell_type": "markdown",
     "metadata": {},
     "source": "Limited Time Camera Operation"
    },
    {
     "cell_type": "code",
     "collapsed": true,
     "input": "%reset -f\nfrom SimpleCV import *\n\ncam = Camera(1)\nx=0\nwhile x<100:\n    x +=1\n    inImg = cam.getImage()\n    outImg = inImg.rotate(90)\n    outImg.show()",
     "language": "python",
     "metadata": {},
     "outputs": []
    },
    {
     "cell_type": "markdown",
     "metadata": {},
     "source": "Diplay Camera Operation"
    },
    {
     "cell_type": "code",
     "collapsed": false,
     "input": "%reset -f\nfrom SimpleCV import *\n\ncam = Camera(1)\ndisp = Display()\n\nwhile not disp.isDone():\n    inImg = cam.getImage()\n    if disp.mouseLeft:\n        break\n    inImg.save(disp)",
     "language": "python",
     "metadata": {},
     "outputs": []
    },
    {
     "cell_type": "markdown",
     "metadata": {},
     "source": "Spinning Camera"
    },
    {
     "cell_type": "code",
     "collapsed": false,
     "input": "%reset -f\nfrom SimpleCV import *\n\ncam = Camera(2)\ndisp = Display()\n\ncount = 0 \nwhile disp.isNotDone():\n    count +=10\n    inImg = cam.getImage()\n    outImg = inImg.rotate(count)\n    if disp.mouseLeft:\n        break\n    outImg.save(disp)",
     "language": "python",
     "metadata": {},
     "outputs": []
    },
    {
     "cell_type": "heading",
     "level": 2,
     "metadata": {},
     "source": "Drawing"
    },
    {
     "cell_type": "markdown",
     "metadata": {},
     "source": "Drawing on Display"
    },
    {
     "cell_type": "code",
     "collapsed": false,
     "input": "%reset -f\nfrom SimpleCV import *\nimg = Image((640, 480))\ndisp = Display()\n\nwhile not disp.isDone():\n    if disp.mouseLeft:\n        img.dl().circle((disp.mouseX, disp.mouseY), 4, Color.WHITE, filled = True)\n        img.save(disp)",
     "language": "python",
     "metadata": {},
     "outputs": []
    },
    {
     "cell_type": "markdown",
     "metadata": {},
     "source": "Laser Pointer"
    },
    {
     "cell_type": "code",
     "collapsed": false,
     "input": "%reset -f\nfrom SimpleCV import *\ncam = Camera(2)\ndisp = Display()\n\nwhile disp.isNotDone():\n    img = cam.getImage()\n    if disp.mouseLeft:\n        img.dl().circle((disp.mouseX, disp.mouseY), 4, Color.WHITE, filled=True)\n    img.save(disp)",
     "language": "python",
     "metadata": {},
     "outputs": []
    },
    {
     "cell_type": "markdown",
     "metadata": {},
     "source": "Drawing on Live Feed"
    },
    {
     "cell_type": "code",
     "collapsed": false,
     "input": "%reset -f\nfrom SimpleCV import *\ncam = Camera(2)\ndisp = Display()\nsize = cam.getImage().size()\ndl = DrawingLayer(size)\n\nwhile disp.isNotDone():\n    img = cam.getImage()\n    if disp.mouseLeft:\n        dl.circle((disp.mouseX, disp.mouseY), 4, Color.BLUE, filled=True)\n    img.addDrawingLayer(dl)\n    img.save(disp)",
     "language": "python",
     "metadata": {},
     "outputs": []
    },
    {
     "cell_type": "heading",
     "level": 2,
     "metadata": {},
     "source": "IP Camera Stream"
    },
    {
     "cell_type": "code",
     "collapsed": false,
     "input": "%reset -f\nfrom SimpleCV import *\n\ncam = JpegStreamCamera(\"http://10.22.242.16:8020/videoView\")\ndisp = Display()\n\nwhile disp.isNotDone():\n    img = cam.getImage()\n    img.save(disp)",
     "language": "python",
     "metadata": {},
     "outputs": []
    },
    {
     "cell_type": "heading",
     "level": 2,
     "metadata": {},
     "source": "Face Detection"
    },
    {
     "cell_type": "markdown",
     "metadata": {},
     "source": "Face Detection from WebCam"
    },
    {
     "cell_type": "code",
     "collapsed": true,
     "input": "%reset -f\nfrom SimpleCV import *\n\ncam = Camera(2)\ndisp = Display()\nsegment = HaarCascade(\"face.xml\")\nwhile disp.isNotDone():\n    inImg = cam.getImage()\n    autoface = inImg.findHaarFeatures(segment)\n    if ( autoface is not None):\n        autoface = autoface.sortArea()\n        bigFace = autoface[-1]\n        bigFace.draw(Color.RED, width = 5)\n    inImg.save(disp)",
     "language": "python",
     "metadata": {},
     "outputs": []
    },
    {
     "cell_type": "markdown",
     "metadata": {},
     "source": "Face Detection from IP Cam"
    },
    {
     "cell_type": "code",
     "collapsed": false,
     "input": "%reset -f\nfrom SimpleCV import *\n\ncam = JpegStreamCamera(\"http://10.22.242.16:8020/videoView\")\ndisp = Display()\nsegment = HaarCascade(\"face.xml\")\nwhile disp.isNotDone():\n    inImg = cam.getImage()\n    autoface = inImg.findHaarFeatures(segment)\n    if ( autoface is not None):\n        autoface = autoface.sortArea()\n        bigFace = autoface[-1]\n        bigFace.draw(Color.RED, width = 5)\n    inImg.save(disp)",
     "language": "python",
     "metadata": {},
     "outputs": []
    },
    {
     "cell_type": "heading",
     "level": 2,
     "metadata": {},
     "source": "Optical Character Reconition"
    },
    {
     "cell_type": "code",
     "collapsed": false,
     "input": "%reset -f\nfrom SimpleCV import *\nimg = Image(\"D:\\\\Desktop\\\\test.gif\")\ntext = img.readText()\nprint(text)",
     "language": "python",
     "metadata": {},
     "outputs": []
    },
    {
     "cell_type": "heading",
     "level": 2,
     "metadata": {},
     "source": "Water Level"
    },
    {
     "cell_type": "code",
     "collapsed": false,
     "input": "%reset -f\nfrom SimpleCV import *\nimport time\n\ndisp = Display(title = \"Liquid Level\")\n\nimg = Image(\"D:\\Documents\\Programs\\FluidLevel\\FluidLevel\\Media\\cup2.jpg\")\nblobs = img.findBlobs()\nblobs[-1].draw(Color.RED, width = 4) #Draws the cup\n\n#img.save(\"D:\\Desktop\\Cup Images\\Cup Identified.png\")\n\ncupImg = blobs[-1].blobImage() #Gets image of just the cup\n#cupImg.save(\"D:\\Desktop\\Just Cup.png\")\n\n\nedgeImg = img.edges(t1= 55, t2=5)\n#edgeImg.save(\"D:\\Desktop\\Cup Images\\Edges.png\")\n\nlines = edgeImg.findLines()\n\nlines.draw(Color.GREEN, width = 4)\n#edgeImg.save(\"D:\\Desktop\\Cup Images\\Lines.png\")\nedgeImg.clearLayers()\n\nfiltLines = lines.filter(abs(lines.angle()) < np.pi) #Checks for horizontal lines\nfiltLines = filtLines.filter(filtLines.y() > 10) #Removes edge effects\nfiltLines.draw(Color.BLUE, width = 8) #Draws the lines on the edgeImg\nimg.addDrawingLayer(edgeImg.dl()) #Take the drawn lines from the edgeImg to img\n\nimg.save(disp)\n#img.save(\"D:\\Desktop\\Cup Images\\Final Cup.png\")\ntime.sleep(5)\ndisp.quit()",
     "language": "python",
     "metadata": {},
     "outputs": []
    },
    {
     "cell_type": "heading",
     "level": 2,
     "metadata": {},
     "source": "Blob Tracker"
    },
    {
     "cell_type": "code",
     "collapsed": false,
     "input": "%reset -f\nfrom SimpleCV import *\ncam = Camera(2)\ndisp = Display(title = \"Blob Tracker\")\n\nsize = cam.getImage().size()\npixels = size[0]*size[1]\nxOffset = 150\nyOffset = 30\n\nwhile disp.isNotDone():\n    if disp.leftButtonUp:\n        break\n    \n    inImg = cam.getImage()\n    workImg = inImg.copy()\n   \n    greenDist = workImg.hueDistance(Color.GREEN).binarize(60).dilate(2)\n   \n    blobs = greenDist.findBlobs(minsize = .1*pixels)\n    \n    if blobs is not None:\n        blobs[-1].draw(color = Color.BLUE, width = 3)\n        blobs[-1].drawMinRect(color = Color.RED, width = 3)\n        area = blobs[-1].area()\n        centroid = blobs[-1].centroid()\n        inImg.drawText(\"Area: %i\" % (area), \\\n                        centroid[0] - xOffset, centroid[1],\\\n                        color = Color.BLACK,\\\n                        fontsize = 40)\n        inImg.drawText(\"Centroid: X:%i, Y%i\" % (centroid[0], centroid[1]), \\\n                        centroid[0] - xOffset, centroid[1] + yOffset,\\\n                        color = Color.BLACK,\\\n                        fontsize = 40)\n        inImg.addDrawingLayer(greenDist.dl())\n    \n    outImg = inImg\n    outImg.save(disp)",
     "language": "python",
     "metadata": {},
     "outputs": []
    }
   ],
   "metadata": {}
  }
 ]
}